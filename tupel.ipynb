{
 "cells": [
  {
   "cell_type": "code",
   "execution_count": 1,
   "id": "f4f1990b",
   "metadata": {},
   "outputs": [],
   "source": [
    "tupl1= ()"
   ]
  },
  {
   "cell_type": "code",
   "execution_count": 3,
   "id": "c20d9fc7",
   "metadata": {},
   "outputs": [],
   "source": [
    "tup2=(10,30,60)"
   ]
  },
  {
   "cell_type": "code",
   "execution_count": 5,
   "id": "4887a90f",
   "metadata": {},
   "outputs": [],
   "source": [
    "tupl3=(10.77,30.66,60.89)"
   ]
  },
  {
   "cell_type": "code",
   "execution_count": 6,
   "id": "8362c830",
   "metadata": {},
   "outputs": [],
   "source": [
    "tupl4=('one','two',\"three\")"
   ]
  },
  {
   "cell_type": "code",
   "execution_count": 8,
   "id": "7e235c6c",
   "metadata": {},
   "outputs": [],
   "source": [
    "tupl5=('ayyappa',25,(50,100))#nestd tupels"
   ]
  },
  {
   "cell_type": "code",
   "execution_count": 9,
   "id": "c2e57b75",
   "metadata": {},
   "outputs": [],
   "source": [
    "tupl6=('ayyappa,',100,17.90)"
   ]
  },
  {
   "cell_type": "code",
   "execution_count": 13,
   "id": "84d6e384",
   "metadata": {},
   "outputs": [
    {
     "data": {
      "text/plain": [
       "3"
      ]
     },
     "execution_count": 13,
     "metadata": {},
     "output_type": "execute_result"
    }
   ],
   "source": [
    "len(tupl6)"
   ]
  },
  {
   "cell_type": "code",
   "execution_count": 14,
   "id": "72bfdb21",
   "metadata": {},
   "outputs": [],
   "source": [
    "#TUPLE INDEXING"
   ]
  },
  {
   "cell_type": "code",
   "execution_count": 16,
   "id": "58e7d604",
   "metadata": {},
   "outputs": [
    {
     "data": {
      "text/plain": [
       "10"
      ]
     },
     "execution_count": 16,
     "metadata": {},
     "output_type": "execute_result"
    }
   ],
   "source": [
    "tup2[0]"
   ]
  },
  {
   "cell_type": "code",
   "execution_count": 18,
   "id": "d5ffc52a",
   "metadata": {},
   "outputs": [
    {
     "data": {
      "text/plain": [
       "'one'"
      ]
     },
     "execution_count": 18,
     "metadata": {},
     "output_type": "execute_result"
    }
   ],
   "source": [
    "tupl4[0]"
   ]
  },
  {
   "cell_type": "code",
   "execution_count": null,
   "id": "fff61984",
   "metadata": {},
   "outputs": [],
   "source": []
  }
 ],
 "metadata": {
  "kernelspec": {
   "display_name": "base",
   "language": "python",
   "name": "python3"
  },
  "language_info": {
   "codemirror_mode": {
    "name": "ipython",
    "version": 3
   },
   "file_extension": ".py",
   "mimetype": "text/x-python",
   "name": "python",
   "nbconvert_exporter": "python",
   "pygments_lexer": "ipython3",
   "version": "3.12.7"
  }
 },
 "nbformat": 4,
 "nbformat_minor": 5
}
