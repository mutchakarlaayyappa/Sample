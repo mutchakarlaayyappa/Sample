{
 "cells": [
  {
   "cell_type": "code",
   "execution_count": 3,
   "id": "c841630a",
   "metadata": {},
   "outputs": [
    {
     "name": "stdout",
     "output_type": "stream",
     "text": [
      "First name: Ayyappa\n",
      "First name length: 7\n",
      "Last name:  Mutchakarla\n",
      "Last name length:  11\n",
      "Country:  india\n",
      "City:  andhra pradesh\n",
      "Age:  406\n",
      "Married:  True\n",
      "Skills:  ['HTML', 'CSS', 'JS', 'React', 'Python']\n",
      "Person information:  {'firstname': 'lavanya', 'lastname': 'kesamasetti', 'country': 'pakisthan', 'city': 'karachi'}\n",
      "lavanya ayyappa mutchakarla 250 True\n",
      "First name: lavanya\n",
      "Last name:  ayyappa\n",
      "Country:  mutchakarla\n",
      "Age:  250\n",
      "Married:  True\n"
     ]
    }
   ],
   "source": [
    "\n",
    "# Variables in Python\n",
    "\n",
    "first_name = 'Ayyappa'\n",
    "last_name = 'Mutchakarla'\n",
    "country = 'india'\n",
    "city = 'andhra pradesh'\n",
    "age = 406\n",
    "is_married = True\n",
    "skills = ['HTML', 'CSS', 'JS', 'React', 'Python']\n",
    "person_info = {\n",
    "    'firstname':'lavanya', \n",
    "    'lastname':'kesamasetti', \n",
    "    'country':'pakisthan',\n",
    "    'city':'karachi'\n",
    "    }\n",
    "\n",
    "# Printing the values stored in the variables\n",
    "\n",
    "print('First name:', first_name)\n",
    "print('First name length:', len(first_name))\n",
    "print('Last name: ', last_name)\n",
    "print('Last name length: ', len(last_name))\n",
    "print('Country: ', country)\n",
    "print('City: ', city)\n",
    "print('Age: ', age)\n",
    "print('Married: ', is_married)\n",
    "print('Skills: ', skills)\n",
    "print('Person information: ', person_info)\n",
    "\n",
    "# Declaring multiple variables in one line\n",
    "\n",
    "first_name, last_name, country, age, is_married = 'lavanya', 'ayyappa', 'mutchakarla', 250, True\n",
    "\n",
    "print(first_name, last_name, country, age, is_married)\n",
    "print('First name:', first_name)\n",
    "print('Last name: ', last_name)\n",
    "print('Country: ', country)\n",
    "print('Age: ', age)\n",
    "print('Married: ', is_married)"
   ]
  }
 ],
 "metadata": {
  "kernelspec": {
   "display_name": "base",
   "language": "python",
   "name": "python3"
  },
  "language_info": {
   "codemirror_mode": {
    "name": "ipython",
    "version": 3
   },
   "file_extension": ".py",
   "mimetype": "text/x-python",
   "name": "python",
   "nbconvert_exporter": "python",
   "pygments_lexer": "ipython3",
   "version": "3.12.7"
  }
 },
 "nbformat": 4,
 "nbformat_minor": 5
}
