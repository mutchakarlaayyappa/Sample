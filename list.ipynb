{
 "cells": [
  {
   "cell_type": "code",
   "execution_count": 1,
   "id": "3ff869d9",
   "metadata": {},
   "outputs": [
    {
     "data": {
      "text/plain": [
       "'abc def ghi'"
      ]
     },
     "execution_count": 1,
     "metadata": {},
     "output_type": "execute_result"
    }
   ],
   "source": [
    "txt = \"abc def ghi\"\n",
    "txt.lstrip()"
   ]
  },
  {
   "cell_type": "code",
   "execution_count": 3,
   "id": "c7431f4f",
   "metadata": {},
   "outputs": [
    {
     "name": "stdout",
     "output_type": "stream",
     "text": [
      "My favourtie person is \"Game of thrones\"\n"
     ]
    }
   ],
   "source": [
    "itself = \"My favourtie person is \\\"Game of thrones\\\"\"\n",
    "print(itself)"
   ]
  },
  {
   "cell_type": "code",
   "execution_count": 4,
   "id": "0def8116",
   "metadata": {},
   "outputs": [
    {
     "name": "stdout",
     "output_type": "stream",
     "text": [
      "<class 'list'>\n"
     ]
    }
   ],
   "source": [
    "list1 = []\n",
    "print(type(list1))"
   ]
  },
  {
   "cell_type": "code",
   "execution_count": null,
   "id": "60f6b885",
   "metadata": {},
   "outputs": [],
   "source": [
    "list2 =[10,20,30]#list of integers\n"
   ]
  },
  {
   "cell_type": "code",
   "execution_count": 7,
   "id": "fff8da98",
   "metadata": {},
   "outputs": [],
   "source": [
    "list3 = [10.77,30,66,70,89]#list of float numbers"
   ]
  },
  {
   "cell_type": "code",
   "execution_count": 8,
   "id": "d6c00786",
   "metadata": {},
   "outputs": [],
   "source": [
    "list4 = ['one','two',\"three\"]#list of strings"
   ]
  },
  {
   "cell_type": "code",
   "execution_count": 9,
   "id": "c81b767f",
   "metadata": {},
   "outputs": [],
   "source": [
    "list5 = ['Ayyappa',25,[50,200],[150,90]]#nested lists"
   ]
  },
  {
   "cell_type": "code",
   "execution_count": 10,
   "id": "efe39016",
   "metadata": {},
   "outputs": [],
   "source": [
    "list6 = [100,'ayyappa',17.765]#list of mixed data types"
   ]
  },
  {
   "cell_type": "code",
   "execution_count": 14,
   "id": "7b739686",
   "metadata": {},
   "outputs": [],
   "source": [
    "list7 = ['lavanya',25,[50,100],{'john','david'}]"
   ]
  },
  {
   "cell_type": "code",
   "execution_count": 16,
   "id": "7a2d8bff",
   "metadata": {},
   "outputs": [
    {
     "data": {
      "text/plain": [
       "3"
      ]
     },
     "execution_count": 16,
     "metadata": {},
     "output_type": "execute_result"
    }
   ],
   "source": [
    "len(list6)#lenhth of list"
   ]
  },
  {
   "cell_type": "code",
   "execution_count": 17,
   "id": "cfcc7cbe",
   "metadata": {},
   "outputs": [
    {
     "data": {
      "text/plain": [
       "10"
      ]
     },
     "execution_count": 17,
     "metadata": {},
     "output_type": "execute_result"
    }
   ],
   "source": [
    "list2[0]# retreive first element of the list"
   ]
  },
  {
   "cell_type": "code",
   "execution_count": 18,
   "id": "c3628a82",
   "metadata": {},
   "outputs": [
    {
     "data": {
      "text/plain": [
       "'one'"
      ]
     },
     "execution_count": 18,
     "metadata": {},
     "output_type": "execute_result"
    }
   ],
   "source": [
    "list4[0]"
   ]
  },
  {
   "cell_type": "code",
   "execution_count": 19,
   "id": "538be99d",
   "metadata": {},
   "outputs": [
    {
     "data": {
      "text/plain": [
       "'o'"
      ]
     },
     "execution_count": 19,
     "metadata": {},
     "output_type": "execute_result"
    }
   ],
   "source": [
    "list4[0][0]#nested indexing - access the first character of the first list"
   ]
  },
  {
   "cell_type": "code",
   "execution_count": 20,
   "id": "def3c446",
   "metadata": {},
   "outputs": [
    {
     "data": {
      "text/plain": [
       "'three'"
      ]
     },
     "execution_count": 20,
     "metadata": {},
     "output_type": "execute_result"
    }
   ],
   "source": [
    "list4[-1]#last item of the list"
   ]
  },
  {
   "cell_type": "code",
   "execution_count": 21,
   "id": "739a9b54",
   "metadata": {},
   "outputs": [],
   "source": [
    "#slicing######"
   ]
  },
  {
   "cell_type": "code",
   "execution_count": 22,
   "id": "2b212331",
   "metadata": {},
   "outputs": [],
   "source": [
    "mylist = ['ayyappa','lavanaya''two','three','five']\n"
   ]
  },
  {
   "cell_type": "code",
   "execution_count": 23,
   "id": "5b59c8bd",
   "metadata": {},
   "outputs": [
    {
     "data": {
      "text/plain": [
       "['ayyappa', 'lavanayatwo', 'three']"
      ]
     },
     "execution_count": 23,
     "metadata": {},
     "output_type": "execute_result"
    }
   ],
   "source": [
    "mylist[0:3]# return all items from 0th to 3rd index location excluding the item"
   ]
  },
  {
   "cell_type": "code",
   "execution_count": 24,
   "id": "84328da7",
   "metadata": {},
   "outputs": [
    {
     "data": {
      "text/plain": [
       "['ayyappa', 'lavanayatwo']"
      ]
     },
     "execution_count": 24,
     "metadata": {},
     "output_type": "execute_result"
    }
   ],
   "source": [
    "mylist[:2]#first two items"
   ]
  },
  {
   "cell_type": "code",
   "execution_count": 27,
   "id": "5969d4b9",
   "metadata": {},
   "outputs": [
    {
     "data": {
      "text/plain": [
       "['lavanayatwo', 'three', 'five']"
      ]
     },
     "execution_count": 27,
     "metadata": {},
     "output_type": "execute_result"
    }
   ],
   "source": [
    "mylist[-3:]#return last three items"
   ]
  },
  {
   "cell_type": "code",
   "execution_count": 28,
   "id": "6383e104",
   "metadata": {},
   "outputs": [
    {
     "data": {
      "text/plain": [
       "['ayyappa', 'lavanayatwo', 'three', 'five']"
      ]
     },
     "execution_count": 28,
     "metadata": {},
     "output_type": "execute_result"
    }
   ],
   "source": [
    "mylist[:]"
   ]
  },
  {
   "cell_type": "code",
   "execution_count": 29,
   "id": "54add036",
   "metadata": {},
   "outputs": [],
   "source": [
    "#ADD,REMOVE & CHANGE ITEMS"
   ]
  },
  {
   "cell_type": "code",
   "execution_count": 30,
   "id": "2ee8a5e8",
   "metadata": {},
   "outputs": [
    {
     "data": {
      "text/plain": [
       "['ayyappa', 'lavanayatwo', 'three', 'five']"
      ]
     },
     "execution_count": 30,
     "metadata": {},
     "output_type": "execute_result"
    }
   ],
   "source": [
    "mylist"
   ]
  },
  {
   "cell_type": "code",
   "execution_count": 31,
   "id": "805f1e48",
   "metadata": {},
   "outputs": [
    {
     "data": {
      "text/plain": [
       "['ayyappa', 'lavanayatwo', 'three', 'five', 'seven']"
      ]
     },
     "execution_count": 31,
     "metadata": {},
     "output_type": "execute_result"
    }
   ],
   "source": [
    "mylist .append('seven')# adda an item in the list\n",
    "mylist"
   ]
  },
  {
   "cell_type": "code",
   "execution_count": 36,
   "id": "0f730f21",
   "metadata": {},
   "outputs": [
    {
     "data": {
      "text/plain": [
       "['ayyappa', 'lavanayatwo', 'three', 'five', 'kushi', 'kushi', 'seven']"
      ]
     },
     "execution_count": 36,
     "metadata": {},
     "output_type": "execute_result"
    }
   ],
   "source": [
    "mylist.insert(4,'kushi')# add item at index location 3\n",
    "mylist"
   ]
  },
  {
   "cell_type": "code",
   "execution_count": 38,
   "id": "ccdd14a7",
   "metadata": {},
   "outputs": [
    {
     "data": {
      "text/plain": [
       "['ayyappa', 'lavanayatwo', 'three', 'five', 'seven']"
      ]
     },
     "execution_count": 38,
     "metadata": {},
     "output_type": "execute_result"
    }
   ],
   "source": [
    "mylist.remove('kushi')#remove last item kushi\n",
    "mylist"
   ]
  },
  {
   "cell_type": "code",
   "execution_count": 39,
   "id": "590882f7",
   "metadata": {},
   "outputs": [
    {
     "data": {
      "text/plain": [
       "['ayyappa', 'lavanayatwo', 'three', 'five']"
      ]
     },
     "execution_count": 39,
     "metadata": {},
     "output_type": "execute_result"
    }
   ],
   "source": [
    "mylist.pop()#remove last item of the list\n",
    "mylist"
   ]
  },
  {
   "cell_type": "code",
   "execution_count": 40,
   "id": "60f6b155",
   "metadata": {},
   "outputs": [
    {
     "data": {
      "text/plain": [
       "['ayyappa', 'lavanayatwo', 'three']"
      ]
     },
     "execution_count": 40,
     "metadata": {},
     "output_type": "execute_result"
    }
   ],
   "source": [
    "del mylist[3]#remove item at index location 3\n",
    "mylist"
   ]
  },
  {
   "cell_type": "code",
   "execution_count": 41,
   "id": "5654e704",
   "metadata": {},
   "outputs": [],
   "source": [
    "#CHANGE VALUE OF THE STRING"
   ]
  },
  {
   "cell_type": "code",
   "execution_count": 43,
   "id": "81b0223a",
   "metadata": {},
   "outputs": [
    {
     "data": {
      "text/plain": [
       "['rey', 'ekkada', 'unnav']"
      ]
     },
     "execution_count": 43,
     "metadata": {},
     "output_type": "execute_result"
    }
   ],
   "source": [
    "mylist[0] ='rey'\n",
    "mylist[1] = 'ekkada'\n",
    "mylist[2] = 'unnav'\n",
    "mylist"
   ]
  },
  {
   "cell_type": "code",
   "execution_count": 44,
   "id": "020d6812",
   "metadata": {},
   "outputs": [
    {
     "data": {
      "text/plain": [
       "[]"
      ]
     },
     "execution_count": 44,
     "metadata": {},
     "output_type": "execute_result"
    }
   ],
   "source": [
    "mylist.clear()\n",
    "mylist"
   ]
  },
  {
   "cell_type": "code",
   "execution_count": 45,
   "id": "f5bb9998",
   "metadata": {},
   "outputs": [],
   "source": [
    "mylist = ['rey','em chesthunav','pandagaki','rava','one','two']"
   ]
  },
  {
   "cell_type": "code",
   "execution_count": 46,
   "id": "7f05af83",
   "metadata": {},
   "outputs": [],
   "source": [
    "mylist1 = mylist#creat a new refrence \"mylist1\""
   ]
  },
  {
   "cell_type": "code",
   "execution_count": 47,
   "id": "78fb1755",
   "metadata": {},
   "outputs": [
    {
     "data": {
      "text/plain": [
       "(2149458454528, 2149458454528)"
      ]
     },
     "execution_count": 47,
     "metadata": {},
     "output_type": "execute_result"
    }
   ],
   "source": [
    "id(mylist),id(mylist)#the address of both mylist& mylist1 will be the same"
   ]
  },
  {
   "cell_type": "code",
   "execution_count": 48,
   "id": "bd310b33",
   "metadata": {},
   "outputs": [],
   "source": [
    "#JOIN LISTS"
   ]
  },
  {
   "cell_type": "code",
   "execution_count": 49,
   "id": "51a1231a",
   "metadata": {},
   "outputs": [],
   "source": [
    "list1 = ['one', 'two', 'three', 'four'] \n",
    "list2 = ['five', 'six', 'seven', 'eight'] "
   ]
  },
  {
   "cell_type": "code",
   "execution_count": 50,
   "id": "93bd9acd",
   "metadata": {},
   "outputs": [
    {
     "data": {
      "text/plain": [
       "['one', 'two', 'three', 'four', 'five', 'six', 'seven', 'eight']"
      ]
     },
     "execution_count": 50,
     "metadata": {},
     "output_type": "execute_result"
    }
   ],
   "source": [
    "list3 = list1 + list2 # Join two lists by '+' operator \n",
    "list3"
   ]
  },
  {
   "cell_type": "code",
   "execution_count": 51,
   "id": "0e425a29",
   "metadata": {},
   "outputs": [],
   "source": [
    "#List Membership #"
   ]
  },
  {
   "cell_type": "code",
   "execution_count": 52,
   "id": "baa79eff",
   "metadata": {},
   "outputs": [
    {
     "data": {
      "text/plain": [
       "['one', 'two', 'three', 'four']"
      ]
     },
     "execution_count": 52,
     "metadata": {},
     "output_type": "execute_result"
    }
   ],
   "source": [
    "list1"
   ]
  },
  {
   "cell_type": "code",
   "execution_count": 53,
   "id": "3ad8f305",
   "metadata": {},
   "outputs": [
    {
     "data": {
      "text/plain": [
       "True"
      ]
     },
     "execution_count": 53,
     "metadata": {},
     "output_type": "execute_result"
    }
   ],
   "source": [
    "'one' in list1"
   ]
  },
  {
   "cell_type": "code",
   "execution_count": 54,
   "id": "7fbfacf3",
   "metadata": {},
   "outputs": [
    {
     "name": "stdout",
     "output_type": "stream",
     "text": [
      "Three is present in the list\n"
     ]
    }
   ],
   "source": [
    "if 'three' in list1:\n",
    "    print('Three is present in the list')\n",
    "else:\n",
    "    print('Three is not present in the list')"
   ]
  },
  {
   "cell_type": "code",
   "execution_count": 55,
   "id": "0c596076",
   "metadata": {},
   "outputs": [],
   "source": [
    "#Reverse & Sort List "
   ]
  },
  {
   "cell_type": "code",
   "execution_count": 56,
   "id": "31598f32",
   "metadata": {},
   "outputs": [
    {
     "data": {
      "text/plain": [
       "['one', 'two', 'three', 'four']"
      ]
     },
     "execution_count": 56,
     "metadata": {},
     "output_type": "execute_result"
    }
   ],
   "source": [
    "list1"
   ]
  },
  {
   "cell_type": "code",
   "execution_count": 58,
   "id": "a7dba7fe",
   "metadata": {},
   "outputs": [
    {
     "data": {
      "text/plain": [
       "['four', 'three', 'two', 'one']"
      ]
     },
     "execution_count": 58,
     "metadata": {},
     "output_type": "execute_result"
    }
   ],
   "source": [
    "list1.reverse()\n",
    "list1"
   ]
  },
  {
   "cell_type": "code",
   "execution_count": 59,
   "id": "b67a7677",
   "metadata": {},
   "outputs": [
    {
     "data": {
      "text/plain": [
       "['one', 'two', 'three', 'four']"
      ]
     },
     "execution_count": 59,
     "metadata": {},
     "output_type": "execute_result"
    }
   ],
   "source": [
    "list1 = list1[::-1] # Reverse the list \n",
    "list1 \n"
   ]
  },
  {
   "cell_type": "code",
   "execution_count": 60,
   "id": "3ce08b68",
   "metadata": {},
   "outputs": [
    {
     "data": {
      "text/plain": [
       "[2, 5, 9, 12, 34, 88, 99]"
      ]
     },
     "execution_count": 60,
     "metadata": {},
     "output_type": "execute_result"
    }
   ],
   "source": [
    "mylist3 = [9,5,2,99,12,88,34] \n",
    "mylist3.sort() # Sort list in ascending order\n",
    "mylist3"
   ]
  },
  {
   "cell_type": "code",
   "execution_count": 61,
   "id": "ccec0fcb",
   "metadata": {},
   "outputs": [
    {
     "data": {
      "text/plain": [
       "[99, 88, 34, 12, 9, 5, 2]"
      ]
     },
     "execution_count": 61,
     "metadata": {},
     "output_type": "execute_result"
    }
   ],
   "source": [
    "mylist3 = [9,5,2,99,12,88,34] \n",
    "mylist3.sort(reverse=True) # Sort list in descending order \n",
    "mylist3 "
   ]
  },
  {
   "cell_type": "code",
   "execution_count": 62,
   "id": "f09fc395",
   "metadata": {},
   "outputs": [],
   "source": [
    "#Loop through a list "
   ]
  },
  {
   "cell_type": "code",
   "execution_count": 63,
   "id": "4047a233",
   "metadata": {},
   "outputs": [
    {
     "data": {
      "text/plain": [
       "['one', 'two', 'three', 'four']"
      ]
     },
     "execution_count": 63,
     "metadata": {},
     "output_type": "execute_result"
    }
   ],
   "source": [
    "list1"
   ]
  },
  {
   "cell_type": "code",
   "execution_count": 64,
   "id": "b347b25d",
   "metadata": {},
   "outputs": [
    {
     "name": "stdout",
     "output_type": "stream",
     "text": [
      "one\n",
      "two\n",
      "three\n",
      "four\n"
     ]
    }
   ],
   "source": [
    "for i in list1:\n",
    "    print(i)"
   ]
  },
  {
   "cell_type": "code",
   "execution_count": 65,
   "id": "bdc196ba",
   "metadata": {},
   "outputs": [
    {
     "name": "stdout",
     "output_type": "stream",
     "text": [
      "(0, 'one')\n",
      "(1, 'two')\n",
      "(2, 'three')\n",
      "(3, 'four')\n"
     ]
    }
   ],
   "source": [
    "for i in enumerate(list1):\n",
    "    print(i)"
   ]
  },
  {
   "cell_type": "code",
   "execution_count": 66,
   "id": "4fbb6fb4",
   "metadata": {},
   "outputs": [],
   "source": [
    "#Count"
   ]
  },
  {
   "cell_type": "code",
   "execution_count": 67,
   "id": "7099b1af",
   "metadata": {},
   "outputs": [
    {
     "data": {
      "text/plain": [
       "3"
      ]
     },
     "execution_count": 67,
     "metadata": {},
     "output_type": "execute_result"
    }
   ],
   "source": [
    "list10 =['one', 'two', 'three', 'four', 'one', 'one', 'two', 'three'] \n",
    "list10.count('one') # Number of times item \"one\" occurred in the list."
   ]
  },
  {
   "cell_type": "code",
   "execution_count": 68,
   "id": "b25e5f2d",
   "metadata": {},
   "outputs": [],
   "source": [
    "# ALL/ANY"
   ]
  },
  {
   "cell_type": "code",
   "execution_count": 69,
   "id": "7054489d",
   "metadata": {},
   "outputs": [
    {
     "data": {
      "text/plain": [
       "False"
      ]
     },
     "execution_count": 69,
     "metadata": {},
     "output_type": "execute_result"
    }
   ],
   "source": [
    "L1 = [1,2,3,4,0] \n",
    "all(L1) # Will Return false as one value is false (Value 0) \n",
    "any(L1) # Will Return True as we have items in the list with True value \n",
    "L2 = [1,2,3,4,True,False] \n",
    "all(L2) # Returns false as one value is false"
   ]
  },
  {
   "cell_type": "code",
   "execution_count": null,
   "id": "3e1a3c5a",
   "metadata": {},
   "outputs": [],
   "source": []
  }
 ],
 "metadata": {
  "kernelspec": {
   "display_name": "base",
   "language": "python",
   "name": "python3"
  },
  "language_info": {
   "codemirror_mode": {
    "name": "ipython",
    "version": 3
   },
   "file_extension": ".py",
   "mimetype": "text/x-python",
   "name": "python",
   "nbconvert_exporter": "python",
   "pygments_lexer": "ipython3",
   "version": "3.12.7"
  }
 },
 "nbformat": 4,
 "nbformat_minor": 5
}
